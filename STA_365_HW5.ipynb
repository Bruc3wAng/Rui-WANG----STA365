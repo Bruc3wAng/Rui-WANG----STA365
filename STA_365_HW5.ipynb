{
  "nbformat": 4,
  "nbformat_minor": 0,
  "metadata": {
    "colab": {
      "provenance": []
    },
    "kernelspec": {
      "name": "python3",
      "display_name": "Python 3"
    },
    "language_info": {
      "name": "python"
    }
  },
  "cells": [
    {
      "cell_type": "markdown",
      "source": [
        "Rui Wang 1007791695"
      ],
      "metadata": {
        "id": "LQp5GF-JSroa"
      }
    },
    {
      "cell_type": "markdown",
      "source": [
        "# Bayesian Linear Regression:<br>Multivariate Normal Distributions [10 minutes]\n",
        "\n",
        "\n",
        "\\begin{align*}\\require{cancel}\n",
        "\\mathbf{y}_{n\\times 1} \\sim {} & \\mathcal{MVN}(\\mathbf{X}_{n\\times p}\\boldsymbol{\\beta}_{p\\times 1},\\boldsymbol \\Sigma_{n\\times n} = \\sigma^2I_{n\\times n})\\\\\n",
        "p(\\mathbf{y}|\\boldsymbol \\beta, \\sigma, \\mathbf{X}) = {}& (2\\pi )^{-n/2}\\cancel{\\det({\\boldsymbol {\\Sigma }})^{-1/2}}{\\frac{1}{\\sigma^{\\frac{n}{2}}}}\\exp \\left(-{\\frac {1}{2\\sigma^2}}(\\mathbf {y} -\\mathbf{X\\boldsymbol\\beta})^\\top\\cancel{\\boldsymbol {\\Sigma }^{-1}}(\\mathbf {y} - \\mathbf{X\\boldsymbol\\beta})\\right)\\\\\\\\\n",
        "\\boldsymbol\\beta \\sim {} & \\mathcal{MVN}(\\boldsymbol\\beta_0, \\boldsymbol\\Sigma_\\beta) \\quad or\\;?\\\\\\\\\n",
        "\\sigma \\sim {} & exponential(\\lambda)  \\quad p(\\sigma) =  \\lambda e^{-\\lambda \\sigma}1_{[0,\\infty]}(\\sigma)\\\\\\\\\n",
        "\\end{align*}\n",
        "$$or \\quad \\sigma \\sim \\text{HalfNormal}(\\mu_\\sigma,\\sigma_\\sigma), \\sigma \\sim  \\text{InverseGamma}(\\alpha,\\beta), \\sigma \\sim \\text{TruncatedNormal}(\\mu_\\sigma,\\sigma_\\sigma,a,b) \\quad or \\; ?$$"
      ],
      "metadata": {
        "id": "rL03pRH5Xhs8"
      }
    },
    {
      "cell_type": "code",
      "source": [
        "import pymc as pm; import numpy as np; n,p=100,10; X,y=np.zeros((n,p)),np.ones((n,1))\n",
        "with pm.Model() as MLR:\n",
        "    betas = pm.MvNormal('betas', mu=np.zeros((p,1)), cov=np.eye(p), shape=(p,1))\n",
        "    sigma = pm.TruncatedNormal('sigma', mu=1, sigma=1, lower=0) # it's just a half normal, actually\n",
        "    y = pm.Normal('y', mu=pm.math.dot(X, betas), sigma=sigma, observed=y)\n",
        "    # y = pm.MvNormal('y', mu=X@betas, cov=sigma**2*np.eye(n), shape=(n,1), observed=y)\n",
        "\n",
        "with MLR:\n",
        "    idata = pm.sample()"
      ],
      "metadata": {
        "id": "soGatrMrX97u"
      },
      "execution_count": null,
      "outputs": []
    },
    {
      "cell_type": "markdown",
      "source": [
        "# Homework 5: Part I\n",
        "\n",
        "1. Go get data from kaggle.com and do a ***Bayesian Linear Regression*** analysis\n",
        "\n",
        "```python\n",
        "import pymc as pm; import numpy as np\n",
        "n,p=100,10; X,y=np.zeros((n,p)),np.ones((n,1))\n",
        "# Replace this made up data with your data set from kaggle...\n",
        "with pm.Model() as MLR:\n",
        "    betas = pm.MvNormal('betas', mu=np.zeros((p,1)), cov=np.eye(p), shape=(p,1))\n",
        "    sigma = pm.TruncatedNormal('sigma', mu=1, sigma=1, lower=0) # half normal\n",
        "    y = pm.Normal('y', mu=pm.math.dot(X, betas), sigma=sigma, observed=y)\n",
        "\n",
        "with MLR:\n",
        "    idata = pm.sample()\n",
        "```    \n",
        "\n",
        "2. Choose ***prior*** that are sensible: certainly you might change the ***hyperparameters***, and perhaps you can experiment with different distributional families for `sigma`...\n",
        "\n",
        "3. [Optional] Assess the performance of the MCMC and note any issues or warnings\n",
        "\n",
        "    1. Traceplots, inference (credible) intervals, effective sample sizes, energy plots, warnings and other notes... just the usual stuff they do [here](https://www.pymc.io/projects/docs/en/stable/learn/core_notebooks/pymc_overview.html#pymc-overview)\n",
        "\n",
        "4. [Optional] Perform ***Multiple Linear Regression*** diagnostics... residual plots, etc."
      ],
      "metadata": {
        "id": "YDSp1aFWYBJE"
      }
    },
    {
      "cell_type": "markdown",
      "source": [
        "# Part 0 #\n",
        "\n",
        "I have found this dataset about Clothes Price Prediction in Kaggle, and here is the link to the dataset: https://www.kaggle.com/datasets/teertha/ushealthinsurancedataset\n",
        "\n",
        "This dataset contains 1338 rows of insured data, where the Insurance charges are given against the following attributes of the insured: Age, Sex, BMI, Number of Children, Smoker and Region. The attributes are a mix of numeric and categorical variables.\n",
        "\n",
        "PS: I used this data set from HW3"
      ],
      "metadata": {
        "id": "B6N-yGGTY6f3"
      }
    },
    {
      "cell_type": "code",
      "source": [
        "import random\n",
        "import numpy as np\n",
        "from scipy import stats\n",
        "import pandas as pd\n",
        "import matplotlib.pyplot as plt\n",
        "import requests\n",
        "\n",
        "df = pd.read_csv(\"insurance.csv\")\n",
        "\n",
        "df.describe()"
      ],
      "metadata": {
        "colab": {
          "base_uri": "https://localhost:8080/",
          "height": 300
        },
        "id": "01_4zYiBY3OO",
        "outputId": "8689d743-b756-477f-d63d-13e5b0244f5f"
      },
      "execution_count": null,
      "outputs": [
        {
          "output_type": "execute_result",
          "data": {
            "text/plain": [
              "               age          bmi     children       charges\n",
              "count  1338.000000  1338.000000  1338.000000   1338.000000\n",
              "mean     39.207025    30.663397     1.094918  13270.422265\n",
              "std      14.049960     6.098187     1.205493  12110.011237\n",
              "min      18.000000    15.960000     0.000000   1121.873900\n",
              "25%      27.000000    26.296250     0.000000   4740.287150\n",
              "50%      39.000000    30.400000     1.000000   9382.033000\n",
              "75%      51.000000    34.693750     2.000000  16639.912515\n",
              "max      64.000000    53.130000     5.000000  63770.428010"
            ],
            "text/html": [
              "\n",
              "  <div id=\"df-6621574f-a4e0-4843-be48-6d4edcd9bbd4\" class=\"colab-df-container\">\n",
              "    <div>\n",
              "<style scoped>\n",
              "    .dataframe tbody tr th:only-of-type {\n",
              "        vertical-align: middle;\n",
              "    }\n",
              "\n",
              "    .dataframe tbody tr th {\n",
              "        vertical-align: top;\n",
              "    }\n",
              "\n",
              "    .dataframe thead th {\n",
              "        text-align: right;\n",
              "    }\n",
              "</style>\n",
              "<table border=\"1\" class=\"dataframe\">\n",
              "  <thead>\n",
              "    <tr style=\"text-align: right;\">\n",
              "      <th></th>\n",
              "      <th>age</th>\n",
              "      <th>bmi</th>\n",
              "      <th>children</th>\n",
              "      <th>charges</th>\n",
              "    </tr>\n",
              "  </thead>\n",
              "  <tbody>\n",
              "    <tr>\n",
              "      <th>count</th>\n",
              "      <td>1338.000000</td>\n",
              "      <td>1338.000000</td>\n",
              "      <td>1338.000000</td>\n",
              "      <td>1338.000000</td>\n",
              "    </tr>\n",
              "    <tr>\n",
              "      <th>mean</th>\n",
              "      <td>39.207025</td>\n",
              "      <td>30.663397</td>\n",
              "      <td>1.094918</td>\n",
              "      <td>13270.422265</td>\n",
              "    </tr>\n",
              "    <tr>\n",
              "      <th>std</th>\n",
              "      <td>14.049960</td>\n",
              "      <td>6.098187</td>\n",
              "      <td>1.205493</td>\n",
              "      <td>12110.011237</td>\n",
              "    </tr>\n",
              "    <tr>\n",
              "      <th>min</th>\n",
              "      <td>18.000000</td>\n",
              "      <td>15.960000</td>\n",
              "      <td>0.000000</td>\n",
              "      <td>1121.873900</td>\n",
              "    </tr>\n",
              "    <tr>\n",
              "      <th>25%</th>\n",
              "      <td>27.000000</td>\n",
              "      <td>26.296250</td>\n",
              "      <td>0.000000</td>\n",
              "      <td>4740.287150</td>\n",
              "    </tr>\n",
              "    <tr>\n",
              "      <th>50%</th>\n",
              "      <td>39.000000</td>\n",
              "      <td>30.400000</td>\n",
              "      <td>1.000000</td>\n",
              "      <td>9382.033000</td>\n",
              "    </tr>\n",
              "    <tr>\n",
              "      <th>75%</th>\n",
              "      <td>51.000000</td>\n",
              "      <td>34.693750</td>\n",
              "      <td>2.000000</td>\n",
              "      <td>16639.912515</td>\n",
              "    </tr>\n",
              "    <tr>\n",
              "      <th>max</th>\n",
              "      <td>64.000000</td>\n",
              "      <td>53.130000</td>\n",
              "      <td>5.000000</td>\n",
              "      <td>63770.428010</td>\n",
              "    </tr>\n",
              "  </tbody>\n",
              "</table>\n",
              "</div>\n",
              "    <div class=\"colab-df-buttons\">\n",
              "\n",
              "  <div class=\"colab-df-container\">\n",
              "    <button class=\"colab-df-convert\" onclick=\"convertToInteractive('df-6621574f-a4e0-4843-be48-6d4edcd9bbd4')\"\n",
              "            title=\"Convert this dataframe to an interactive table.\"\n",
              "            style=\"display:none;\">\n",
              "\n",
              "  <svg xmlns=\"http://www.w3.org/2000/svg\" height=\"24px\" viewBox=\"0 -960 960 960\">\n",
              "    <path d=\"M120-120v-720h720v720H120Zm60-500h600v-160H180v160Zm220 220h160v-160H400v160Zm0 220h160v-160H400v160ZM180-400h160v-160H180v160Zm440 0h160v-160H620v160ZM180-180h160v-160H180v160Zm440 0h160v-160H620v160Z\"/>\n",
              "  </svg>\n",
              "    </button>\n",
              "\n",
              "  <style>\n",
              "    .colab-df-container {\n",
              "      display:flex;\n",
              "      gap: 12px;\n",
              "    }\n",
              "\n",
              "    .colab-df-convert {\n",
              "      background-color: #E8F0FE;\n",
              "      border: none;\n",
              "      border-radius: 50%;\n",
              "      cursor: pointer;\n",
              "      display: none;\n",
              "      fill: #1967D2;\n",
              "      height: 32px;\n",
              "      padding: 0 0 0 0;\n",
              "      width: 32px;\n",
              "    }\n",
              "\n",
              "    .colab-df-convert:hover {\n",
              "      background-color: #E2EBFA;\n",
              "      box-shadow: 0px 1px 2px rgba(60, 64, 67, 0.3), 0px 1px 3px 1px rgba(60, 64, 67, 0.15);\n",
              "      fill: #174EA6;\n",
              "    }\n",
              "\n",
              "    .colab-df-buttons div {\n",
              "      margin-bottom: 4px;\n",
              "    }\n",
              "\n",
              "    [theme=dark] .colab-df-convert {\n",
              "      background-color: #3B4455;\n",
              "      fill: #D2E3FC;\n",
              "    }\n",
              "\n",
              "    [theme=dark] .colab-df-convert:hover {\n",
              "      background-color: #434B5C;\n",
              "      box-shadow: 0px 1px 3px 1px rgba(0, 0, 0, 0.15);\n",
              "      filter: drop-shadow(0px 1px 2px rgba(0, 0, 0, 0.3));\n",
              "      fill: #FFFFFF;\n",
              "    }\n",
              "  </style>\n",
              "\n",
              "    <script>\n",
              "      const buttonEl =\n",
              "        document.querySelector('#df-6621574f-a4e0-4843-be48-6d4edcd9bbd4 button.colab-df-convert');\n",
              "      buttonEl.style.display =\n",
              "        google.colab.kernel.accessAllowed ? 'block' : 'none';\n",
              "\n",
              "      async function convertToInteractive(key) {\n",
              "        const element = document.querySelector('#df-6621574f-a4e0-4843-be48-6d4edcd9bbd4');\n",
              "        const dataTable =\n",
              "          await google.colab.kernel.invokeFunction('convertToInteractive',\n",
              "                                                    [key], {});\n",
              "        if (!dataTable) return;\n",
              "\n",
              "        const docLinkHtml = 'Like what you see? Visit the ' +\n",
              "          '<a target=\"_blank\" href=https://colab.research.google.com/notebooks/data_table.ipynb>data table notebook</a>'\n",
              "          + ' to learn more about interactive tables.';\n",
              "        element.innerHTML = '';\n",
              "        dataTable['output_type'] = 'display_data';\n",
              "        await google.colab.output.renderOutput(dataTable, element);\n",
              "        const docLink = document.createElement('div');\n",
              "        docLink.innerHTML = docLinkHtml;\n",
              "        element.appendChild(docLink);\n",
              "      }\n",
              "    </script>\n",
              "  </div>\n",
              "\n",
              "\n",
              "<div id=\"df-21433cdc-68c9-49fd-8ad8-934f8487d7aa\">\n",
              "  <button class=\"colab-df-quickchart\" onclick=\"quickchart('df-21433cdc-68c9-49fd-8ad8-934f8487d7aa')\"\n",
              "            title=\"Suggest charts\"\n",
              "            style=\"display:none;\">\n",
              "\n",
              "<svg xmlns=\"http://www.w3.org/2000/svg\" height=\"24px\"viewBox=\"0 0 24 24\"\n",
              "     width=\"24px\">\n",
              "    <g>\n",
              "        <path d=\"M19 3H5c-1.1 0-2 .9-2 2v14c0 1.1.9 2 2 2h14c1.1 0 2-.9 2-2V5c0-1.1-.9-2-2-2zM9 17H7v-7h2v7zm4 0h-2V7h2v10zm4 0h-2v-4h2v4z\"/>\n",
              "    </g>\n",
              "</svg>\n",
              "  </button>\n",
              "\n",
              "<style>\n",
              "  .colab-df-quickchart {\n",
              "      --bg-color: #E8F0FE;\n",
              "      --fill-color: #1967D2;\n",
              "      --hover-bg-color: #E2EBFA;\n",
              "      --hover-fill-color: #174EA6;\n",
              "      --disabled-fill-color: #AAA;\n",
              "      --disabled-bg-color: #DDD;\n",
              "  }\n",
              "\n",
              "  [theme=dark] .colab-df-quickchart {\n",
              "      --bg-color: #3B4455;\n",
              "      --fill-color: #D2E3FC;\n",
              "      --hover-bg-color: #434B5C;\n",
              "      --hover-fill-color: #FFFFFF;\n",
              "      --disabled-bg-color: #3B4455;\n",
              "      --disabled-fill-color: #666;\n",
              "  }\n",
              "\n",
              "  .colab-df-quickchart {\n",
              "    background-color: var(--bg-color);\n",
              "    border: none;\n",
              "    border-radius: 50%;\n",
              "    cursor: pointer;\n",
              "    display: none;\n",
              "    fill: var(--fill-color);\n",
              "    height: 32px;\n",
              "    padding: 0;\n",
              "    width: 32px;\n",
              "  }\n",
              "\n",
              "  .colab-df-quickchart:hover {\n",
              "    background-color: var(--hover-bg-color);\n",
              "    box-shadow: 0 1px 2px rgba(60, 64, 67, 0.3), 0 1px 3px 1px rgba(60, 64, 67, 0.15);\n",
              "    fill: var(--button-hover-fill-color);\n",
              "  }\n",
              "\n",
              "  .colab-df-quickchart-complete:disabled,\n",
              "  .colab-df-quickchart-complete:disabled:hover {\n",
              "    background-color: var(--disabled-bg-color);\n",
              "    fill: var(--disabled-fill-color);\n",
              "    box-shadow: none;\n",
              "  }\n",
              "\n",
              "  .colab-df-spinner {\n",
              "    border: 2px solid var(--fill-color);\n",
              "    border-color: transparent;\n",
              "    border-bottom-color: var(--fill-color);\n",
              "    animation:\n",
              "      spin 1s steps(1) infinite;\n",
              "  }\n",
              "\n",
              "  @keyframes spin {\n",
              "    0% {\n",
              "      border-color: transparent;\n",
              "      border-bottom-color: var(--fill-color);\n",
              "      border-left-color: var(--fill-color);\n",
              "    }\n",
              "    20% {\n",
              "      border-color: transparent;\n",
              "      border-left-color: var(--fill-color);\n",
              "      border-top-color: var(--fill-color);\n",
              "    }\n",
              "    30% {\n",
              "      border-color: transparent;\n",
              "      border-left-color: var(--fill-color);\n",
              "      border-top-color: var(--fill-color);\n",
              "      border-right-color: var(--fill-color);\n",
              "    }\n",
              "    40% {\n",
              "      border-color: transparent;\n",
              "      border-right-color: var(--fill-color);\n",
              "      border-top-color: var(--fill-color);\n",
              "    }\n",
              "    60% {\n",
              "      border-color: transparent;\n",
              "      border-right-color: var(--fill-color);\n",
              "    }\n",
              "    80% {\n",
              "      border-color: transparent;\n",
              "      border-right-color: var(--fill-color);\n",
              "      border-bottom-color: var(--fill-color);\n",
              "    }\n",
              "    90% {\n",
              "      border-color: transparent;\n",
              "      border-bottom-color: var(--fill-color);\n",
              "    }\n",
              "  }\n",
              "</style>\n",
              "\n",
              "  <script>\n",
              "    async function quickchart(key) {\n",
              "      const quickchartButtonEl =\n",
              "        document.querySelector('#' + key + ' button');\n",
              "      quickchartButtonEl.disabled = true;  // To prevent multiple clicks.\n",
              "      quickchartButtonEl.classList.add('colab-df-spinner');\n",
              "      try {\n",
              "        const charts = await google.colab.kernel.invokeFunction(\n",
              "            'suggestCharts', [key], {});\n",
              "      } catch (error) {\n",
              "        console.error('Error during call to suggestCharts:', error);\n",
              "      }\n",
              "      quickchartButtonEl.classList.remove('colab-df-spinner');\n",
              "      quickchartButtonEl.classList.add('colab-df-quickchart-complete');\n",
              "    }\n",
              "    (() => {\n",
              "      let quickchartButtonEl =\n",
              "        document.querySelector('#df-21433cdc-68c9-49fd-8ad8-934f8487d7aa button');\n",
              "      quickchartButtonEl.style.display =\n",
              "        google.colab.kernel.accessAllowed ? 'block' : 'none';\n",
              "    })();\n",
              "  </script>\n",
              "</div>\n",
              "\n",
              "    </div>\n",
              "  </div>\n"
            ],
            "application/vnd.google.colaboratory.intrinsic+json": {
              "type": "dataframe",
              "summary": "{\n  \"name\": \"df\",\n  \"rows\": 8,\n  \"fields\": [\n    {\n      \"column\": \"age\",\n      \"properties\": {\n        \"dtype\": \"number\",\n        \"std\": 460.6106090399993,\n        \"min\": 14.049960379216154,\n        \"max\": 1338.0,\n        \"num_unique_values\": 8,\n        \"samples\": [\n          39.20702541106129,\n          39.0,\n          1338.0\n        ],\n        \"semantic_type\": \"\",\n        \"description\": \"\"\n      }\n    },\n    {\n      \"column\": \"bmi\",\n      \"properties\": {\n        \"dtype\": \"number\",\n        \"std\": 463.29524977918294,\n        \"min\": 6.098186911679014,\n        \"max\": 1338.0,\n        \"num_unique_values\": 8,\n        \"samples\": [\n          30.66339686098655,\n          30.4,\n          1338.0\n        ],\n        \"semantic_type\": \"\",\n        \"description\": \"\"\n      }\n    },\n    {\n      \"column\": \"children\",\n      \"properties\": {\n        \"dtype\": \"number\",\n        \"std\": 472.5368318870757,\n        \"min\": 0.0,\n        \"max\": 1338.0,\n        \"num_unique_values\": 7,\n        \"samples\": [\n          1338.0,\n          1.0949177877429,\n          2.0\n        ],\n        \"semantic_type\": \"\",\n        \"description\": \"\"\n      }\n    },\n    {\n      \"column\": \"charges\",\n      \"properties\": {\n        \"dtype\": \"number\",\n        \"std\": 20381.922846226596,\n        \"min\": 1121.8739,\n        \"max\": 63770.42801,\n        \"num_unique_values\": 8,\n        \"samples\": [\n          13270.422265141257,\n          9382.033,\n          1338.0\n        ],\n        \"semantic_type\": \"\",\n        \"description\": \"\"\n      }\n    }\n  ]\n}"
            }
          },
          "metadata": {},
          "execution_count": 8
        }
      ]
    },
    {
      "cell_type": "markdown",
      "source": [
        "I choose age as major parameter."
      ],
      "metadata": {
        "id": "ZaX_fTAuZoj6"
      }
    },
    {
      "cell_type": "markdown",
      "source": [
        "# Part 1 #\n"
      ],
      "metadata": {
        "id": "0JZwTLZZZvL6"
      }
    },
    {
      "cell_type": "markdown",
      "source": [
        "1."
      ],
      "metadata": {
        "id": "yYmmpM37cXP0"
      }
    },
    {
      "cell_type": "code",
      "source": [
        "import pymc as pm; import numpy as np\n",
        "n, p = 1338, 10; X, y = np.zeros((n,p)), np.ones((n,1))\n",
        "# Replace this made up data with your data set from kaggle...\n",
        "with pm.Model() as MLR:\n",
        "    betas = pm.MvNormal('betas', mu = np.zeros((p,1)), cov = np.eye(p), shape = (p,1))\n",
        "    sigma = pm.TruncatedNormal('sigma', mu = 39, sigma = 14, lower = 0) # half normal\n",
        "    y = pm.Normal('y', mu = pm.math.dot(X, betas), sigma = sigma, observed = y)\n",
        "\n",
        "with MLR:\n",
        "    idata = pm.sample()"
      ],
      "metadata": {
        "colab": {
          "base_uri": "https://localhost:8080/",
          "height": 57
        },
        "id": "EyYblwS8YEyR",
        "outputId": "d71e112b-c417-4786-d98b-d60c7d938633"
      },
      "execution_count": null,
      "outputs": [
        {
          "output_type": "display_data",
          "data": {
            "text/plain": [
              "<IPython.core.display.HTML object>"
            ],
            "text/html": [
              "\n",
              "<style>\n",
              "    /* Turns off some styling */\n",
              "    progress {\n",
              "        /* gets rid of default border in Firefox and Opera. */\n",
              "        border: none;\n",
              "        /* Needs to be in here for Safari polyfill so background images work as expected. */\n",
              "        background-size: auto;\n",
              "    }\n",
              "    progress:not([value]), progress:not([value])::-webkit-progress-bar {\n",
              "        background: repeating-linear-gradient(45deg, #7e7e7e, #7e7e7e 10px, #5c5c5c 10px, #5c5c5c 20px);\n",
              "    }\n",
              "    .progress-bar-interrupted, .progress-bar-interrupted::-webkit-progress-bar {\n",
              "        background: #F44336;\n",
              "    }\n",
              "</style>\n"
            ]
          },
          "metadata": {}
        },
        {
          "output_type": "display_data",
          "data": {
            "text/plain": [
              "<IPython.core.display.HTML object>"
            ],
            "text/html": [
              "\n",
              "    <div>\n",
              "      <progress value='2000' class='' max='2000' style='width:300px; height:20px; vertical-align: middle;'></progress>\n",
              "      100.00% [2000/2000 00:29&lt;00:00 Sampling chain 0, 0 divergences]\n",
              "    </div>\n",
              "    "
            ]
          },
          "metadata": {}
        },
        {
          "output_type": "display_data",
          "data": {
            "text/plain": [
              "<IPython.core.display.HTML object>"
            ],
            "text/html": [
              "\n",
              "<style>\n",
              "    /* Turns off some styling */\n",
              "    progress {\n",
              "        /* gets rid of default border in Firefox and Opera. */\n",
              "        border: none;\n",
              "        /* Needs to be in here for Safari polyfill so background images work as expected. */\n",
              "        background-size: auto;\n",
              "    }\n",
              "    progress:not([value]), progress:not([value])::-webkit-progress-bar {\n",
              "        background: repeating-linear-gradient(45deg, #7e7e7e, #7e7e7e 10px, #5c5c5c 10px, #5c5c5c 20px);\n",
              "    }\n",
              "    .progress-bar-interrupted, .progress-bar-interrupted::-webkit-progress-bar {\n",
              "        background: #F44336;\n",
              "    }\n",
              "</style>\n"
            ]
          },
          "metadata": {}
        },
        {
          "output_type": "display_data",
          "data": {
            "text/plain": [
              "<IPython.core.display.HTML object>"
            ],
            "text/html": [
              "\n",
              "    <div>\n",
              "      <progress value='2000' class='' max='2000' style='width:300px; height:20px; vertical-align: middle;'></progress>\n",
              "      100.00% [2000/2000 00:27&lt;00:00 Sampling chain 1, 0 divergences]\n",
              "    </div>\n",
              "    "
            ]
          },
          "metadata": {}
        }
      ]
    },
    {
      "cell_type": "markdown",
      "source": [
        "2."
      ],
      "metadata": {
        "id": "7EV_pZwqb-W1"
      }
    },
    {
      "cell_type": "code",
      "source": [
        "import pymc as pm; import numpy as np\n",
        "n, p = 1338, 39; X, y = np.zeros((n,p)), np.ones((n,1))\n",
        "# Replace this made up data with your data set from kaggle...\n",
        "with pm.Model() as MLR:\n",
        "    betas = pm.MvNormal('betas', mu = np.zeros((p,1)), cov = np.eye(p), shape = (p,1))\n",
        "    sigma = pm.TruncatedNormal('sigma', mu = 39, sigma = 14, lower = 0) # half normal\n",
        "    y = pm.Normal('y', mu = pm.math.dot(X, betas), sigma = sigma, observed = y)\n",
        "\n",
        "with MLR:\n",
        "    idata = pm.sample()"
      ],
      "metadata": {
        "colab": {
          "base_uri": "https://localhost:8080/",
          "height": 57
        },
        "id": "-ztsEWZ1b9H-",
        "outputId": "3c7118c2-b103-4512-cb97-f3f9bb6b9943"
      },
      "execution_count": null,
      "outputs": [
        {
          "output_type": "display_data",
          "data": {
            "text/plain": [
              "<IPython.core.display.HTML object>"
            ],
            "text/html": [
              "\n",
              "<style>\n",
              "    /* Turns off some styling */\n",
              "    progress {\n",
              "        /* gets rid of default border in Firefox and Opera. */\n",
              "        border: none;\n",
              "        /* Needs to be in here for Safari polyfill so background images work as expected. */\n",
              "        background-size: auto;\n",
              "    }\n",
              "    progress:not([value]), progress:not([value])::-webkit-progress-bar {\n",
              "        background: repeating-linear-gradient(45deg, #7e7e7e, #7e7e7e 10px, #5c5c5c 10px, #5c5c5c 20px);\n",
              "    }\n",
              "    .progress-bar-interrupted, .progress-bar-interrupted::-webkit-progress-bar {\n",
              "        background: #F44336;\n",
              "    }\n",
              "</style>\n"
            ]
          },
          "metadata": {}
        },
        {
          "output_type": "display_data",
          "data": {
            "text/plain": [
              "<IPython.core.display.HTML object>"
            ],
            "text/html": [
              "\n",
              "    <div>\n",
              "      <progress value='2000' class='' max='2000' style='width:300px; height:20px; vertical-align: middle;'></progress>\n",
              "      100.00% [2000/2000 01:04&lt;00:00 Sampling chain 0, 0 divergences]\n",
              "    </div>\n",
              "    "
            ]
          },
          "metadata": {}
        },
        {
          "output_type": "display_data",
          "data": {
            "text/plain": [
              "<IPython.core.display.HTML object>"
            ],
            "text/html": [
              "\n",
              "<style>\n",
              "    /* Turns off some styling */\n",
              "    progress {\n",
              "        /* gets rid of default border in Firefox and Opera. */\n",
              "        border: none;\n",
              "        /* Needs to be in here for Safari polyfill so background images work as expected. */\n",
              "        background-size: auto;\n",
              "    }\n",
              "    progress:not([value]), progress:not([value])::-webkit-progress-bar {\n",
              "        background: repeating-linear-gradient(45deg, #7e7e7e, #7e7e7e 10px, #5c5c5c 10px, #5c5c5c 20px);\n",
              "    }\n",
              "    .progress-bar-interrupted, .progress-bar-interrupted::-webkit-progress-bar {\n",
              "        background: #F44336;\n",
              "    }\n",
              "</style>\n"
            ]
          },
          "metadata": {}
        },
        {
          "output_type": "display_data",
          "data": {
            "text/plain": [
              "<IPython.core.display.HTML object>"
            ],
            "text/html": [
              "\n",
              "    <div>\n",
              "      <progress value='2000' class='' max='2000' style='width:300px; height:20px; vertical-align: middle;'></progress>\n",
              "      100.00% [2000/2000 01:02&lt;00:00 Sampling chain 1, 0 divergences]\n",
              "    </div>\n",
              "    "
            ]
          },
          "metadata": {}
        }
      ]
    },
    {
      "cell_type": "markdown",
      "source": [
        "# Part 2 #"
      ],
      "metadata": {
        "id": "f3f9tUfKcQxi"
      }
    },
    {
      "cell_type": "markdown",
      "source": [
        "# Bayesian Linear Regression?<br>Geneal $\\boldsymbol \\Sigma$ Instead of $\\sigma^2I$ [10 minutes]\n",
        "\n",
        "\\begin{align*}\\require{cancel}\n",
        "\\mathbf{y}_{n\\times 1} \\sim {} & \\mathcal{MVN}(\\mathbf{X}_{n\\times p}\\boldsymbol{\\beta}_{p\\times 1},\\boldsymbol \\Sigma_{n\\times n} = \\sigma^2I_{n\\times n})\\\\\n",
        "p(\\mathbf{y}|\\boldsymbol \\beta, \\sigma, \\mathbf{X}) = {}& (2\\pi )^{-n/2}\\cancel{\\det({\\boldsymbol {\\Sigma }})^{-1/2}}{\\frac{1}{\\sigma^{\\frac{n}{2}}}}\\exp \\left(-{\\frac {1}{2\\sigma^2}}(\\mathbf {y} -\\mathbf{X\\boldsymbol\\beta})^\\top\\cancel{\\boldsymbol {\\Sigma }^{-1}}(\\mathbf {y} - \\mathbf{X\\boldsymbol\\beta})\\right)\\\\\\hline\\\\\n",
        "\\mathbf{y}_{n\\times 1} \\sim {} & \\mathcal{MVN}(\\mathbf{X}_{n\\times p}\\boldsymbol{\\beta}_{p\\times 1},\\boldsymbol \\Sigma_{n\\times n} \\cancel{= \\sigma^2I_{n\\times n}})\\\\\n",
        "p(\\mathbf{y}|\\boldsymbol \\beta, \\sigma, \\mathbf{X}) = {}& (2\\pi )^{-n/2}{\\det({\\boldsymbol {\\Sigma }})^{-1/2}}\\exp \\left(-{\\frac {1}{2}}(\\mathbf {y} -\\mathbf{X\\boldsymbol\\beta})^\\top{\\boldsymbol {\\Sigma }^{-1}}(\\mathbf {y} - \\mathbf{X\\boldsymbol\\beta})\\right)\\\\\\\\\n",
        "\\boldsymbol\\beta \\sim {} & \\mathcal{MVN}(\\boldsymbol\\beta_0, \\boldsymbol\\Sigma_\\beta) \\quad or\\;?\\\\\\\\\n",
        "p(\\boldsymbol \\Sigma) \\propto {} & \\det({\\boldsymbol {\\Sigma }})^{-v/2} \\exp \\left(-{\\frac {1}{2}}\\textrm{tr}\\left(\\Psi{\\boldsymbol {\\Sigma }}^{-1} \\right)\\right) \\quad or\\;?\n",
        "\\end{align*}\n",
        "\n",
        "## Do we forsee any problems with what we're going to do here?"
      ],
      "metadata": {
        "id": "BMBZZnl_eoAq"
      }
    },
    {
      "cell_type": "markdown",
      "source": [
        "# Conjugate Multivariate Normal Priors [15 minutes]\n",
        "\n",
        "\\begin{align*}\n",
        "p(\\mathbf{y} | \\boldsymbol \\beta, \\boldsymbol \\Sigma, \\mathbf{X})= {}& (2\\pi )^{-n/2}\\det({\\boldsymbol {\\Sigma }})^{-1/2}\\,\\exp \\left(-{\\frac {1}{2}}(\\mathbf {y} -\\mathbf{X\\beta})^\\top{\\boldsymbol {\\Sigma }}^{-1}(\\mathbf{y} - \\mathbf{X\\beta})\\right)\\\\\n",
        "\\propto{}& \\exp\\left(\\mathbf{\\beta}^\\top\\mathbf{X}^\\top\\boldsymbol\\Sigma^{-1}\\mathbf{y} - \\frac{1}{2}\\mathbf{\\beta}^\\top \\mathbf{X}^\\top \\boldsymbol\\Sigma^{-1} \\mathbf{X\\beta} \\right)\\\\\n",
        "\\propto{}& \\exp\\left( - \\frac{1}{2} \\left( \\beta - (\\mathbf{X}^\\top \\boldsymbol\\Sigma^{-1} \\mathbf{X})^{-1}\\mathbf{X}^\\top \\boldsymbol\\Sigma^{-1}\\mathbf{y}\\right)^{\\!\\top} \\left[\\mathbf{X}^{\\top} \\boldsymbol\\Sigma^{-1} \\mathbf{X} \\right]\\left( \\beta - (\\mathbf{X}^\\top \\boldsymbol\\Sigma^{-1} \\mathbf{X})^{-1}\\mathbf{X}^\\top \\boldsymbol\\Sigma^{-1}\\mathbf{y}\\right)  \\right)\\\\\n",
        "p(\\boldsymbol \\beta) \\propto 1 \\Longrightarrow {}& p(\\boldsymbol \\beta | \\boldsymbol\\Sigma, \\mathbf{X},\\mathbf{y}) = \\mathcal{MVN}\\left(E[\\boldsymbol \\beta | \\boldsymbol\\Sigma, \\mathbf{X},\\mathbf{y}] = (\\mathbf{X}^\\top \\boldsymbol\\Sigma^{-1} \\mathbf{X})^{-1}\\mathbf{X}^\\top \\boldsymbol\\Sigma^{-1}\\mathbf{y}, \\text{Cov}[\\boldsymbol \\beta | \\boldsymbol\\Sigma, \\mathbf{X},\\mathbf{y}] = \\left[\\mathbf{X}^{\\top} \\boldsymbol\\Sigma^{-1} \\mathbf{X} \\right]^{-1} \\right)\\\\\n",
        "or \\quad {}& \\text{to use a conjugate family of priors...}\\\\\n",
        "p(\\boldsymbol \\beta) = {}& \\mathcal{MVN}\\left(E[\\boldsymbol \\beta ] = \\boldsymbol \\beta_0, \\text{Cov}[\\boldsymbol \\beta ] = \\boldsymbol \\Sigma_\\beta \\right) \\quad \\text{ so}\\\\\n",
        "p(\\boldsymbol \\beta |\\boldsymbol\\Sigma, \\mathbf{X},\\mathbf{y}) = {}& \\mathcal{MVN}\\left(\\overset{E[\\boldsymbol \\beta | \\boldsymbol\\Sigma, \\mathbf{X},\\mathbf{y}] \\; = \\quad\\quad}{\\text{Cov}[\\boldsymbol \\beta | \\boldsymbol\\Sigma, \\mathbf{X},\\mathbf{y}]}\\bigg( \\mathbf{X}^\\top \\boldsymbol\\Sigma^{-1}\\mathbf{y} + \\boldsymbol \\Sigma_\\beta^{-1}\\boldsymbol\\beta_0 \\right), \\text{Cov}[\\boldsymbol \\beta | \\boldsymbol\\Sigma, \\mathbf{X},\\mathbf{y}] = \\left[\\mathbf{X}^{\\top}\\boldsymbol \\Sigma^{-1} \\mathbf{X}  + \\boldsymbol \\Sigma_\\beta^{-1} \\right]^{-1} \\bigg)\\\\\n",
        "\\end{align*}\n",
        "\n",
        "\n",
        "\\begin{align*}\n",
        "\\text{Look familiar?}&\\, \\Downarrow{} \\quad\\quad\\quad \\underbrace{\\;\\,\\textbf{mean}\\,\\;}\\quad\\;\\underbrace{\\textbf{precision}}\\\\\n",
        "p(\\theta|x,\\theta_0,\\tau, \\phi) &={} \\text{N}\\left(\\frac{\\left(\\tau \\theta_0+\\phi\\sum_{i=1}^{n}x_{i}\\right)}{(\\tau+n\\phi)}, \\tau+n\\phi \\right)\n",
        "\\end{align*}"
      ],
      "metadata": {
        "id": "wxjoK5BueqhK"
      }
    },
    {
      "cell_type": "markdown",
      "source": [
        "# Homework 5: Part II\n",
        "    \n",
        "## Answer the following with respect to $p(\\boldsymbol \\beta |\\boldsymbol\\Sigma, \\mathbf{X},\\mathbf{y})$ on the previous slide\n",
        "    \n",
        "1. Rewrite $p(\\boldsymbol \\beta |\\boldsymbol\\Sigma, \\mathbf{X},\\mathbf{y})$ in terms of $\\sigma^2$ (no longer using $\\Sigma$) if $\\Sigma=\\sigma^2I$\n",
        "\n",
        "2. What is $E[\\boldsymbol \\beta |\\boldsymbol\\Sigma, \\mathbf{X},\\mathbf{y}]$?\n",
        "\n",
        "3. What ***hyperparameters*** values (legal or illegal) would make $E[\\boldsymbol \\beta |\\boldsymbol\\Sigma, \\mathbf{X},\\mathbf{y}] = (\\mathbf{X^\\top X})^{-1}\\mathbf{X^\\top y}$?\n",
        "\n",
        "4. What ***hyperparameters*** values (legal or illegal) would make $E[  \\mathbf{\\hat y} = \\mathbf{X}\\boldsymbol \\beta |\\boldsymbol\\Sigma, \\mathbf{X},\\mathbf{y}] = \\mathbf{X}(\\mathbf{X^\\top X})^{-1}\\mathbf{X^\\top y}$?\n",
        "\n",
        "5. What is $\\text{Var}[\\boldsymbol \\beta |\\boldsymbol\\Sigma, \\mathbf{X},\\mathbf{y}]$?"
      ],
      "metadata": {
        "id": "ITCM7P_yexCn"
      }
    },
    {
      "cell_type": "markdown",
      "source": [
        "1."
      ],
      "metadata": {
        "id": "yJ4jrYP6fCNa"
      }
    },
    {
      "cell_type": "markdown",
      "source": [
        "$p(\\boldsymbol{\\beta} | \\sigma^2, \\mathbf{X}, \\mathbf{y}) = \\mathcal{MVN}\\left( E[\\boldsymbol{\\beta} | \\sigma^2, \\mathbf{X}, \\mathbf{y}] = \\left( \\frac{1}{\\sigma^2} \\mathbf{X}^\\top \\mathbf{y} + \\sigma_\\beta^2 \\boldsymbol{\\Sigma}_\\beta^{-1} \\boldsymbol{\\beta}_0 \\right), \\text{Cov}[\\boldsymbol{\\beta} | \\sigma^2, \\mathbf{X}, \\mathbf{y}] = \\frac{\\sigma^2}{\\mathbf{X}^\\top \\mathbf{X} + \\sigma_\\beta^2 \\boldsymbol{\\Sigma}_\\beta^{-1}} \\right)$\n"
      ],
      "metadata": {
        "id": "UeXWo6hrgBML"
      }
    },
    {
      "cell_type": "markdown",
      "source": [
        "2."
      ],
      "metadata": {
        "id": "XU3cgmTbgnUP"
      }
    },
    {
      "cell_type": "markdown",
      "source": [
        "$E[\\boldsymbol{\\beta} | \\boldsymbol{\\Sigma}, \\mathbf{X},\\mathbf{y}] = \\left( \\frac{1}{\\sigma^2} \\mathbf{X}^\\top \\mathbf{y} + \\sigma_\\beta^2 \\boldsymbol{\\Sigma}_\\beta^{-1} \\boldsymbol{\\beta}_0 \\right)$"
      ],
      "metadata": {
        "id": "ZfGjuKvSiiUA"
      }
    },
    {
      "cell_type": "markdown",
      "source": [
        "3."
      ],
      "metadata": {
        "id": "hpLc4jNeij09"
      }
    },
    {
      "cell_type": "markdown",
      "source": [
        "To have $E[\\boldsymbol{\\beta} |\\boldsymbol{\\Sigma}, \\mathbf{X},\\mathbf{y}] = (\\mathbf{X^\\top X})^{-1}\\mathbf{X^\\top y}$, you would need the following hyperparameters:\n",
        "\n",
        "1. Set $\\boldsymbol{\\beta}_0$ very close to zero.\n",
        "2. Set ${\\Sigma}_\\beta$ such that it has minimal influence on the posterior distribution compared to the likelihood term, which implies a very small variance."
      ],
      "metadata": {
        "id": "kjyooyLAikYU"
      }
    },
    {
      "cell_type": "markdown",
      "source": [
        "4."
      ],
      "metadata": {
        "id": "1h4kZQcfjxXo"
      }
    },
    {
      "cell_type": "markdown",
      "source": [
        "Same answer in Q3"
      ],
      "metadata": {
        "id": "2Hx3mqFzj95Q"
      }
    },
    {
      "cell_type": "markdown",
      "source": [
        "5."
      ],
      "metadata": {
        "id": "dqybvfvYkBmw"
      }
    },
    {
      "cell_type": "markdown",
      "source": [
        "$p(\\text{Var}[\\boldsymbol{\\beta} | \\boldsymbol{\\Sigma}, \\mathbf{X}, \\mathbf{y}]) = \\left[\\mathbf{X}^{\\top} \\boldsymbol{\\Sigma}^{-1} \\mathbf{X} + \\boldsymbol{\\Sigma}_\\beta^{-1} \\right]^{-1}$"
      ],
      "metadata": {
        "id": "YszKKuClkCWv"
      }
    },
    {
      "cell_type": "markdown",
      "source": [
        "# Homework 5: Part III\n",
        "\n",
        "1. Go get data from kaggle.com and perform inference for a ***Bayesian Multivariate Normal Model***\n",
        "\n",
        "<SPAN STYLE=\"font-size:18.0pt\">\n",
        "\n",
        "```python\n",
        "import numpy as np; from scipy import stats\n",
        "p=10; Psi=np.eye(p); a_cov = stats.invwishart(df=p+2, scale=Psi).rvs(1)\n",
        "n=1000; y=stats.multivariate_normal(mean=np.zeros(p), cov=a_cov).rvs(size=n)\n",
        "# Replace this made up data with your data set from kaggle...\n",
        "    \n",
        "with pm.Model() as MNV_LKJ:\n",
        "    packed_L = pm.LKJCholeskyCov(\"packed_L\", n=p, eta=2.0,\n",
        "                                 sd_dist=pm.Exponential.dist(1.0, shape=2), compute_corr=False)\n",
        "    L = pm.expand_packed_triangular(p, packed_L)\n",
        "    # Sigma = pm.Deterministic('Sigma', L.dot(L.T)) # Don't use a covariance matrix parameterization\n",
        "    mu = pm.MvNormal('mu', mu=np.array(0), cov=np.eye(p), shape=p);\n",
        "    # y = pm.MvNormal('y', mu=mu, cov=Sigma, shape=(n,1), observed=y)\n",
        "    # Figure out how to parameterize this with a Cholesky factor to improve computational efficiency\n",
        "with MNV_LKJ    \n",
        "    idata = pm.sample()\n",
        "```    \n",
        "</SPAN>\n",
        "\n",
        "2. As indicated above, don't use a covariance matrix parameterization and instead figure out how to parameterize this with a ***Cholesky factor*** to improve computational efficiency. The ***Cholesky***-based formulation allows general $O(n^3)$ $\\det({\\boldsymbol \\Sigma})$ to be computed using a simple $O(n)$ product and general $O(n^3)$ ${\\boldsymbol \\Sigma}^{-1}$ to be instead evaluated with $O(n^2)$ ***backward substitution***.\n",
        "\n",
        "2. Specify ***priors*** that work: certainly you'll likely need to change the ***prior hyperparameters*** for $\\boldsymbol \\mu$ (`mu`) and $\\mathbf{R}$ (`packed_L`)...\n",
        "    1. And you could consider adjusting the ***prior*** for $\\boldsymbol \\sigma$ using `sd_dist`...\n",
        "\n",
        "3. [Optional] Assess the performance of the MCMC and note any issues\n",
        "\n",
        "    1. Traceplots, inference (credible) intervals, effective sample sizes, energy plots, warnings and other notes... just the usual stuff they do [here](https://www.pymc.io/projects/docs/en/stable/learn/core_notebooks/pymc_overview.html#pymc-overview)"
      ],
      "metadata": {
        "id": "1mvKTaBrkzKr"
      }
    },
    {
      "cell_type": "code",
      "source": [
        "import pymc as pm\n",
        "import numpy as np\n",
        "from scipy import stats\n",
        "\n",
        "p = 39\n",
        "Psi = np.eye(p)\n",
        "a_cov = stats.invwishart(df=p+2, scale=Psi).rvs(1)\n",
        "\n",
        "n = 1338\n",
        "y = stats.multivariate_normal(mean=np.zeros(p), cov=a_cov).rvs(size=n)\n",
        "\n",
        "\n",
        "with pm.Model() as MNV_LKJ:\n",
        "    packed_L = pm.LKJCholeskyCov(\"packed_L\", n=p, eta=2.0,\n",
        "                                 sd_dist=pm.Exponential.dist(1.0, shape=p), compute_corr=False)\n",
        "    L = pm.expand_packed_triangular(p, packed_L)\n",
        "    Sigma = pm.Deterministic('Sigma', L.dot(L.T))\n",
        "    mu = pm.MvNormal('mu', mu=np.zeros(p), cov=np.eye(p), shape=p)\n",
        "    y_obs = pm.MvNormal('y_obs', mu=mu, chol=L, observed=y)\n",
        "\n",
        "with MNV_LKJ:\n",
        "    trace = pm.sample(1338)"
      ],
      "metadata": {
        "colab": {
          "base_uri": "https://localhost:8080/",
          "height": 57
        },
        "id": "H3HOvnYNk-rK",
        "outputId": "a1793c2e-8841-4d5e-f29d-352e50cd6993"
      },
      "execution_count": null,
      "outputs": [
        {
          "output_type": "display_data",
          "data": {
            "text/plain": [
              "<IPython.core.display.HTML object>"
            ],
            "text/html": [
              "\n",
              "<style>\n",
              "    /* Turns off some styling */\n",
              "    progress {\n",
              "        /* gets rid of default border in Firefox and Opera. */\n",
              "        border: none;\n",
              "        /* Needs to be in here for Safari polyfill so background images work as expected. */\n",
              "        background-size: auto;\n",
              "    }\n",
              "    progress:not([value]), progress:not([value])::-webkit-progress-bar {\n",
              "        background: repeating-linear-gradient(45deg, #7e7e7e, #7e7e7e 10px, #5c5c5c 10px, #5c5c5c 20px);\n",
              "    }\n",
              "    .progress-bar-interrupted, .progress-bar-interrupted::-webkit-progress-bar {\n",
              "        background: #F44336;\n",
              "    }\n",
              "</style>\n"
            ]
          },
          "metadata": {}
        },
        {
          "output_type": "display_data",
          "data": {
            "text/plain": [
              "<IPython.core.display.HTML object>"
            ],
            "text/html": [
              "\n",
              "    <div>\n",
              "      <progress value='2338' class='' max='2338' style='width:300px; height:20px; vertical-align: middle;'></progress>\n",
              "      100.00% [2338/2338 01:36&lt;00:00 Sampling chain 0, 0 divergences]\n",
              "    </div>\n",
              "    "
            ]
          },
          "metadata": {}
        },
        {
          "output_type": "display_data",
          "data": {
            "text/plain": [
              "<IPython.core.display.HTML object>"
            ],
            "text/html": [
              "\n",
              "<style>\n",
              "    /* Turns off some styling */\n",
              "    progress {\n",
              "        /* gets rid of default border in Firefox and Opera. */\n",
              "        border: none;\n",
              "        /* Needs to be in here for Safari polyfill so background images work as expected. */\n",
              "        background-size: auto;\n",
              "    }\n",
              "    progress:not([value]), progress:not([value])::-webkit-progress-bar {\n",
              "        background: repeating-linear-gradient(45deg, #7e7e7e, #7e7e7e 10px, #5c5c5c 10px, #5c5c5c 20px);\n",
              "    }\n",
              "    .progress-bar-interrupted, .progress-bar-interrupted::-webkit-progress-bar {\n",
              "        background: #F44336;\n",
              "    }\n",
              "</style>\n"
            ]
          },
          "metadata": {}
        },
        {
          "output_type": "display_data",
          "data": {
            "text/plain": [
              "<IPython.core.display.HTML object>"
            ],
            "text/html": [
              "\n",
              "    <div>\n",
              "      <progress value='2338' class='' max='2338' style='width:300px; height:20px; vertical-align: middle;'></progress>\n",
              "      100.00% [2338/2338 01:27&lt;00:00 Sampling chain 1, 0 divergences]\n",
              "    </div>\n",
              "    "
            ]
          },
          "metadata": {}
        }
      ]
    }
  ]
}